{
 "cells": [
  {
   "cell_type": "markdown",
   "metadata": {},
   "source": [
    "# 词向量"
   ]
  },
  {
   "cell_type": "code",
   "execution_count": 15,
   "metadata": {
    "ExecuteTime": {
     "end_time": "2021-02-25T12:45:22.353220Z",
     "start_time": "2021-02-25T12:45:22.350360Z"
    }
   },
   "outputs": [],
   "source": [
    "import torch\n",
    "import torch.nn as nn\n",
    "import torch.nn.functional as F\n",
    "import torch.utils.data as tud\n",
    "from torch.nn.parameter import Parameter"
   ]
  },
  {
   "cell_type": "markdown",
   "metadata": {},
   "source": [
    "## Tensor和tensor\n",
    "在Pytorch中，Tensor和tensor都用于生成新的向量\n",
    "- `torch.Tensor()`是python类。更明确的说，是默认张量类型`torch.FloatTensor()`的别名。  \n",
    " - `torch.Tensor([1,2])`会调用Tensor类的构造函数`_init__`，生成单精度浮点型的张量。\n",
    "- `torch.tensor()`是python的函数，函数原型是`torch.tensor(data, dtype=None, requires_grad=False)`\n",
    " - data可以是：list，tuple，array，scala等类型\n",
    " - `torch.tensor()`可以从data中的数据部分做拷贝（而不是直接引用），根据原始数据类型生成相应的  \n",
    "   - torch.LongTensor\n",
    "   - torch.FloatTensor\n",
    "   - torch.DoubleTensor\n",
    " \n",
    "思考：\n",
    "习惯了基本数据类型，看到`tensor([1,2])`这种张量一开始会特别奇怪。\n",
    "为何不直接写成列表呢？\n",
    "一个比较好的解释角度：一切皆对象。尽管从value的角度来看，tensor和list是一样的，但是tensor这种数据类型肯定还定义了list类型没有的方法。传统的list等类型，尽管从值的角度来看，确实差不多，但在深度学习中，需要一层更好的封装。这个封装就是tensor。\n",
    "\n",
    "举例：\n",
    "```python\n",
    "import torch\n",
    "x_train, y_train, x_valid, y_valid = map(\n",
    "    torch.tensor,\n",
    "    (x_train, y_train, x_valid, y_valid)\n",
    ")\n",
    "x_train.shape\n",
    "x_train.min()\n",
    "x_train.max()\n",
    "```\n",
    "```python\n",
    "def map(function, iterable, ...):\n",
    "    ...\n",
    "    return iterable\n",
    "\n",
    "```"
   ]
  },
  {
   "cell_type": "code",
   "execution_count": 3,
   "metadata": {
    "ExecuteTime": {
     "end_time": "2021-02-25T11:42:38.723626Z",
     "start_time": "2021-02-25T11:42:38.669585Z"
    }
   },
   "outputs": [
    {
     "data": {
      "text/plain": [
       "tensor([1., 2.])"
      ]
     },
     "execution_count": 3,
     "metadata": {},
     "output_type": "execute_result"
    }
   ],
   "source": [
    "a = torch.Tensor([1,2])\n",
    "a"
   ]
  },
  {
   "cell_type": "code",
   "execution_count": 4,
   "metadata": {
    "ExecuteTime": {
     "end_time": "2021-02-25T11:43:06.109680Z",
     "start_time": "2021-02-25T11:43:06.103358Z"
    }
   },
   "outputs": [
    {
     "data": {
      "text/plain": [
       "tensor([1, 2])"
      ]
     },
     "execution_count": 4,
     "metadata": {},
     "output_type": "execute_result"
    }
   ],
   "source": [
    "a = torch.tensor([1,2])\n",
    "a"
   ]
  },
  {
   "cell_type": "code",
   "execution_count": 10,
   "metadata": {
    "ExecuteTime": {
     "end_time": "2021-02-25T12:18:43.216315Z",
     "start_time": "2021-02-25T12:18:43.210799Z"
    }
   },
   "outputs": [
    {
     "data": {
      "text/plain": [
       "'torch.LongTensor'"
      ]
     },
     "execution_count": 10,
     "metadata": {},
     "output_type": "execute_result"
    }
   ],
   "source": [
    "a = torch.tensor([1,2])\n",
    "a.type()"
   ]
  },
  {
   "cell_type": "code",
   "execution_count": 9,
   "metadata": {
    "ExecuteTime": {
     "end_time": "2021-02-25T12:18:36.752117Z",
     "start_time": "2021-02-25T12:18:36.746483Z"
    }
   },
   "outputs": [
    {
     "data": {
      "text/plain": [
       "'torch.FloatTensor'"
      ]
     },
     "execution_count": 9,
     "metadata": {},
     "output_type": "execute_result"
    }
   ],
   "source": [
    "b = torch.tensor([1.,2.])\n",
    "b.type()"
   ]
  },
  {
   "cell_type": "code",
   "execution_count": 11,
   "metadata": {
    "ExecuteTime": {
     "end_time": "2021-02-25T12:19:40.579755Z",
     "start_time": "2021-02-25T12:19:40.569963Z"
    }
   },
   "outputs": [
    {
     "data": {
      "text/plain": [
       "'torch.DoubleTensor'"
      ]
     },
     "execution_count": 11,
     "metadata": {},
     "output_type": "execute_result"
    }
   ],
   "source": [
    "c = np.zeros(2, dtype=np.float64)\n",
    "c = torch.tensor(c)\n",
    "c.type()"
   ]
  },
  {
   "cell_type": "markdown",
   "metadata": {},
   "source": [
    "## nn.functional\n",
    "`import torch.nn.functional as F`\n",
    "包含torch.nn库中所有函数，同时包含大量loss和activation function\n",
    "```python\n",
    "import torch.nn.functional as F\n",
    "\n",
    "loss_func = F.cross_entropy\n",
    "loss = loss_func(model(x), y)\n",
    "\n",
    "loss.backward()\n",
    "```"
   ]
  },
  {
   "cell_type": "markdown",
   "metadata": {},
   "source": [
    "## nn和nn.functional有什么区别\n",
    "- nn.functional.xxx是函数接口\n",
    "- nn.Xxx是nn.functional.xxx的类封装，并且nn.Xxx都继承于一个共同的祖先nn.Module\n",
    "- nn.Xxx除了具有nn.functional.xxx功能之外，内部附带nn.Module相关的属性和方法\n",
    " - train()\n",
    " - eval()\n",
    " - load_state_dict\n",
    " - state_dict"
   ]
  },
  {
   "cell_type": "markdown",
   "metadata": {},
   "source": [
    "## class torch.utils.data.Dataset\n",
    "> 作用：\n",
    "创建数据集\n",
    "- `__getitem__(self, index)`函数根据索引序号获取图片和标签\n",
    "- `__len__(self)`函数来获取数据集的长度\n",
    "\n",
    "其他数据集类必须是torch.utils.data.Dataset的子类"
   ]
  },
  {
   "cell_type": "code",
   "execution_count": 19,
   "metadata": {
    "ExecuteTime": {
     "end_time": "2021-02-25T13:01:07.890619Z",
     "start_time": "2021-02-25T13:01:07.885587Z"
    }
   },
   "outputs": [],
   "source": [
    "from torch.utils.data import Dataset\n",
    "\n",
    "class TensorDataset(Dataset):\n",
    "    \"\"\"\n",
    "    Dataset wrapping data and target tensors\n",
    "    \n",
    "    Each sample will be retrived by indexing both tensors along the first dimension.\n",
    "    \n",
    "    Arguments:\n",
    "        data_tensor (Tensor): contains sample data\n",
    "        target_tensort (Tensor): contains sample targets (labels)\n",
    "    \"\"\"\n",
    "    def __init__(self, data_tensor, target_tensor):\n",
    "        assert data_tensor.size(0) == target_tensor.size(0)\n",
    "        self.data_tensor = data_tensor\n",
    "        self.target_tensor = target_tensor\n",
    "        \n",
    "    def __getitem__(self, index):\n",
    "        return self.data_tensor[index], self.target_tensor[index]\n",
    "    \n",
    "    def __len__(self):\n",
    "        return self.data_tensor.size(0)"
   ]
  },
  {
   "cell_type": "code",
   "execution_count": null,
   "metadata": {},
   "outputs": [],
   "source": []
  },
  {
   "cell_type": "code",
   "execution_count": 17,
   "metadata": {
    "ExecuteTime": {
     "end_time": "2021-02-25T12:45:30.878950Z",
     "start_time": "2021-02-25T12:45:30.874811Z"
    }
   },
   "outputs": [],
   "source": [
    "from collections import Counter\n",
    "import numpy as np\n",
    "import random\n",
    "\n",
    "import pandas as pd\n",
    "import scipy\n",
    "import sklearn\n",
    "from sklearn.metrics.pairwise import cosine_similarity"
   ]
  },
  {
   "cell_type": "markdown",
   "metadata": {},
   "source": [
    "## Counter"
   ]
  },
  {
   "cell_type": "code",
   "execution_count": 21,
   "metadata": {
    "ExecuteTime": {
     "end_time": "2021-02-25T13:03:42.106470Z",
     "start_time": "2021-02-25T13:03:42.100590Z"
    }
   },
   "outputs": [
    {
     "data": {
      "text/plain": [
       "Counter({'a': 2, 'b': 3, 'c': 1, 'd': 1})"
      ]
     },
     "execution_count": 21,
     "metadata": {},
     "output_type": "execute_result"
    }
   ],
   "source": [
    "A=['a','b','b','c','d','b','a']\n",
    "counter = Counter(A)\n",
    "counter"
   ]
  },
  {
   "cell_type": "code",
   "execution_count": 22,
   "metadata": {
    "ExecuteTime": {
     "end_time": "2021-02-25T13:03:50.650778Z",
     "start_time": "2021-02-25T13:03:50.643723Z"
    }
   },
   "outputs": [
    {
     "data": {
      "text/plain": [
       "{'a': 2, 'b': 3, 'c': 1, 'd': 1}"
      ]
     },
     "execution_count": 22,
     "metadata": {},
     "output_type": "execute_result"
    }
   ],
   "source": [
    "dict(counter)"
   ]
  },
  {
   "cell_type": "code",
   "execution_count": 23,
   "metadata": {
    "ExecuteTime": {
     "end_time": "2021-02-25T13:04:32.996416Z",
     "start_time": "2021-02-25T13:04:32.955900Z"
    }
   },
   "outputs": [],
   "source": [
    "USE_CUDA = torch.cuda.is_available()\n",
    "\n",
    "# 为了保证实验结果可以复现，我们经常会把各种random seed固定在某一个值\n",
    "random.seed(53113)\n",
    "np.random.seed(53113)\n",
    "torch.manual_seed(53113)\n",
    "if USE_CUDA:\n",
    "    torch.cuda.manual_seed(53113)\n",
    "    \n",
    "# 设定一些超参数\n",
    "    \n",
    "K = 100 # number of negative samples\n",
    "C = 3 # nearby words threshold\n",
    "NUM_EPOCHS = 2 # The number of epochs of training\n",
    "MAX_VOCAB_SIZE = 30000 # the vocabulary size\n",
    "BATCH_SIZE = 128 # the batch size\n",
    "LEARNING_RATE = 0.2 # the initial learning rate\n",
    "EMBEDDING_SIZE = 100\n",
    "       \n",
    "    \n",
    "LOG_FILE = \"word-embedding.log\""
   ]
  },
  {
   "cell_type": "code",
   "execution_count": 24,
   "metadata": {
    "ExecuteTime": {
     "end_time": "2021-02-25T13:07:32.924321Z",
     "start_time": "2021-02-25T13:07:32.920173Z"
    }
   },
   "outputs": [],
   "source": [
    "def word_tokenize(text):\n",
    "    return text.split()"
   ]
  }
 ],
 "metadata": {
  "kernelspec": {
   "display_name": "Python 3",
   "language": "python",
   "name": "python3"
  },
  "language_info": {
   "codemirror_mode": {
    "name": "ipython",
    "version": 3
   },
   "file_extension": ".py",
   "mimetype": "text/x-python",
   "name": "python",
   "nbconvert_exporter": "python",
   "pygments_lexer": "ipython3",
   "version": "3.7.3"
  },
  "toc": {
   "base_numbering": 1,
   "nav_menu": {},
   "number_sections": true,
   "sideBar": true,
   "skip_h1_title": false,
   "title_cell": "Table of Contents",
   "title_sidebar": "Contents",
   "toc_cell": false,
   "toc_position": {},
   "toc_section_display": true,
   "toc_window_display": true
  }
 },
 "nbformat": 4,
 "nbformat_minor": 2
}
